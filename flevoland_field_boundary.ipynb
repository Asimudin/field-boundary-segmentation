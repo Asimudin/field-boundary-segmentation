# ==============================================================================
# 2. PROJECT CONFIGURATION
# ==============================================================================
print("\nStep 2: Configuring project parameters...")

# Let's use Flevoland, Netherlands - a region of reclaimed land with
# extremely clear, geometric fields, perfect for this task.
AOI = ee.Geometry.Rectangle([5.3, 52.4, 5.7, 52.6])

# Use a single month in peak growing season for a crisp image
START_DATE = '2022-07-01'
END_DATE = '2022-07-31'

# Define the features for the initial supervised classification
BANDS = ['B2', 'B3', 'B4', 'B8'] # Blue, Green, Red, NIR
FEATURE_BANDS = BANDS + ['NDVI']

# Define the simple classes for segmentation and a property to hold the class value
CLASSES = {
    'Field':     {'value': 1, 'color': 'green'},
    'Non-Field': {'value': 0, 'color': 'gray'}
}
CLASS_PROPERTY = 'landcover'


# ==============================================================================
# 3. IMAGE & FEATURE PREPARATION
# ==============================================================================
print("\nStep 3: Preparing Sentinel-2 image and features...")

def mask_s2_clouds(image):
    qa = image.select('QA60')
    cloud_bit_mask = 1 << 10
    cirrus_bit_mask = 1 << 11
    mask = qa.bitwiseAnd(cloud_bit_mask).eq(0).And(qa.bitwiseAnd(cirrus_bit_mask).eq(0))
    return image.updateMask(mask).divide(10000)

def add_ndvi(image):
    return image.addBands(image.normalizedDifference(['B8', 'B4']).rename('NDVI'))

# Create a single, clean, cloud-free composite image
s2_collection = (ee.ImageCollection('COPERNICUS/S2_SR_HARMONIZED')
                  .filterBounds(AOI)
                  .filterDate(START_DATE, END_DATE)
                  .filter(ee.Filter.lt('CLOUDY_PIXEL_PERCENTAGE', 10)))

# Diagnostic check
collection_size = s2_collection.size().getInfo()
print(f"   - Found {collection_size} images for the composite.")
if collection_size == 0:
    raise ValueError("The GEE image collection is empty. Try expanding the date range.")

# Create the final composite image with all feature bands
composite_image = s2_collection.map(mask_s2_clouds).map(add_ndvi).median().select(FEATURE_BANDS)


# ==============================================================================
# 4. GROUND TRUTH DATA FOR SUPERVISED CLASSIFICATION
# ==============================================================================
print("\nStep 4: Creating ground truth polygons for supervised segmentation...")

# In a real project, you would import a shapefile. For this demo, we create them manually.
ground_truth = ee.FeatureCollection([
  # 'Field' class examples
  ee.Feature(ee.Geometry.Polygon([[
      [5.45, 52.55], [5.45, 52.54], [5.46, 52.54], [5.46, 52.55]
  ]]), {'landcover': CLASSES['Field']['value']}),
  ee.Feature(ee.Geometry.Polygon([[
      [5.55, 52.48], [5.55, 52.47], [5.56, 52.47], [5.56, 52.48]
  ]]), {'landcover': CLASSES['Field']['value']}),

  # 'Non-Field' class examples (e.g., water, urban area)
  ee.Feature(ee.Geometry.Polygon([[
      [5.34, 52.43], [5.34, 52.42], [5.35, 52.42], [5.35, 52.43] # Water body
  ]]), {'landcover': CLASSES['Non-Field']['value']}),
  ee.Feature(ee.Geometry.Polygon([[
      [5.65, 52.52], [5.65, 52.51], [5.66, 52.51], [5.66, 52.52] # Town/road area
  ]]), {'landcover': CLASSES['Non-Field']['value']})
])

# Sample the input image to get training data.
training_data = composite_image.sampleRegions(
    collection=ground_truth,
    properties=[CLASS_PROPERTY],
    scale=10,
    tileScale=4
)


# ==============================================================================
# 5. SUPERVISED CLASSIFICATION TO CREATE SEGMENTED MAP
# ==============================================================================
print("\nStep 5: Training classifier and creating a simplified segmentation map...")

# Train a Random Forest classifier.
classifier = ee.Classifier.smileRandomForest(20).train(
    features=training_data,
    classProperty=CLASS_PROPERTY,
    inputProperties=FEATURE_BANDS
)

# Apply the classifier to the composite image.
# The result is a simple map where pixels are either 1 ('Field') or 0 ('Non-Field').
classification_map = composite_image.classify(classifier)


# ==============================================================================
# 6. EDGE DETECTION & VECTORIZATION (WITH TYPE CORRECTION)
# ==============================================================================
print("\nStep 6: Running edge detection and vectorizing boundaries...")

# Apply the Canny Edge Detector. The output 'edges' is a float image.
edges = ee.Algorithms.CannyEdgeDetector(
    image=classification_map,
    threshold=0.1,
    sigma=1
)

# --- THE CRITICAL FIX IS HERE ---
# The reduceToVectors function requires an INTEGER image.
# We convert the float output of the Canny detector into a binary integer image.
# .gt(0) creates an image where pixels are 1 if the edge strength was > 0,
# and 0 otherwise. This new image is of integer type.
binary_edges = edges.gt(0)

# Convert the integer edge pixels into vector lines.
# This step will now succeed because the input is of the correct type.
field_boundaries = binary_edges.reduceToVectors(
    scale=10,
    geometry=AOI,
    eightConnected=True,
    labelProperty='label', # A dummy property
    reducer=ee.Reducer.countEvery()
)
# ==============================================================================
# 7. VISUALIZATION
# ==============================================================================
print("\nStep 7: Generating and displaying the final map...")

# Initialize a map and center it on our AOI
Map = geemap.Map()
Map.centerObject(AOI, 12)

# Define visualization parameters for the base satellite image
rgb_vis_params = {'bands': ['B4', 'B3', 'B2'], 'min': 0, 'max': 0.3}

# Add the base satellite image for context
Map.addLayer(composite_image, rgb_vis_params, 'True Color Composite')

# Add the intermediate segmentation map (optional, but good for understanding)
Map.addLayer(classification_map, {'min': 0, 'max': 1, 'palette': ['gray', 'green']}, 'Intermediate Segmentation')

# Add the final field boundaries, styled to be highly visible
Map.addLayer(field_boundaries, {'color': 'yellow'}, 'Extracted Field Boundaries')

# Add a legend
Map.add_legend(title="Legend", keys=['Field Boundary'], colors=['yellow'])

# Display the map in the Colab output
display(Map)
print("\n\n==================== PROJECT COMPLETE ====================")
